{
 "cells": [
  {
   "cell_type": "code",
   "execution_count": 1,
   "metadata": {},
   "outputs": [
    {
     "data": {
      "text/html": [
       "<div>\n",
       "<style scoped>\n",
       "    .dataframe tbody tr th:only-of-type {\n",
       "        vertical-align: middle;\n",
       "    }\n",
       "\n",
       "    .dataframe tbody tr th {\n",
       "        vertical-align: top;\n",
       "    }\n",
       "\n",
       "    .dataframe thead th {\n",
       "        text-align: right;\n",
       "    }\n",
       "</style>\n",
       "<table border=\"1\" class=\"dataframe\">\n",
       "  <thead>\n",
       "    <tr style=\"text-align: right;\">\n",
       "      <th></th>\n",
       "      <th>city</th>\n",
       "      <th>date</th>\n",
       "      <th>fare</th>\n",
       "      <th>ride_id</th>\n",
       "      <th>driver_count</th>\n",
       "      <th>type</th>\n",
       "    </tr>\n",
       "  </thead>\n",
       "  <tbody>\n",
       "    <tr>\n",
       "      <th>0</th>\n",
       "      <td>Lake Jonathanshire</td>\n",
       "      <td>2018-01-14 10:14:22</td>\n",
       "      <td>13.83</td>\n",
       "      <td>5739410935873</td>\n",
       "      <td>5</td>\n",
       "      <td>Urban</td>\n",
       "    </tr>\n",
       "    <tr>\n",
       "      <th>1</th>\n",
       "      <td>Lake Jonathanshire</td>\n",
       "      <td>2018-04-07 20:51:11</td>\n",
       "      <td>31.25</td>\n",
       "      <td>4441251834598</td>\n",
       "      <td>5</td>\n",
       "      <td>Urban</td>\n",
       "    </tr>\n",
       "    <tr>\n",
       "      <th>2</th>\n",
       "      <td>Lake Jonathanshire</td>\n",
       "      <td>2018-03-09 23:45:55</td>\n",
       "      <td>19.89</td>\n",
       "      <td>2389495660448</td>\n",
       "      <td>5</td>\n",
       "      <td>Urban</td>\n",
       "    </tr>\n",
       "    <tr>\n",
       "      <th>3</th>\n",
       "      <td>Lake Jonathanshire</td>\n",
       "      <td>2018-04-07 18:09:21</td>\n",
       "      <td>24.28</td>\n",
       "      <td>7796805191168</td>\n",
       "      <td>5</td>\n",
       "      <td>Urban</td>\n",
       "    </tr>\n",
       "    <tr>\n",
       "      <th>4</th>\n",
       "      <td>Lake Jonathanshire</td>\n",
       "      <td>2018-01-02 14:14:50</td>\n",
       "      <td>13.89</td>\n",
       "      <td>424254840012</td>\n",
       "      <td>5</td>\n",
       "      <td>Urban</td>\n",
       "    </tr>\n",
       "  </tbody>\n",
       "</table>\n",
       "</div>"
      ],
      "text/plain": [
       "                 city                 date   fare        ride_id  \\\n",
       "0  Lake Jonathanshire  2018-01-14 10:14:22  13.83  5739410935873   \n",
       "1  Lake Jonathanshire  2018-04-07 20:51:11  31.25  4441251834598   \n",
       "2  Lake Jonathanshire  2018-03-09 23:45:55  19.89  2389495660448   \n",
       "3  Lake Jonathanshire  2018-04-07 18:09:21  24.28  7796805191168   \n",
       "4  Lake Jonathanshire  2018-01-02 14:14:50  13.89   424254840012   \n",
       "\n",
       "   driver_count   type  \n",
       "0             5  Urban  \n",
       "1             5  Urban  \n",
       "2             5  Urban  \n",
       "3             5  Urban  \n",
       "4             5  Urban  "
      ]
     },
     "execution_count": 1,
     "metadata": {},
     "output_type": "execute_result"
    }
   ],
   "source": [
    "%matplotlib inline\n",
    "# Dependencies and Setup\n",
    "import matplotlib.pyplot as plt\n",
    "import pandas as pd\n",
    "import numpy as np\n",
    "\n",
    "# File to Load (Remember to change these)\n",
    "city_data_to_load = \"/Users/minabansal/Desktop/COL Homework/matlab_homework/data/city_data.csv\"\n",
    "ride_data_to_load = \"/Users/minabansal/Desktop/COL Homework/matlab_homework/data/ride_data.csv\"\n",
    "\n",
    "# Read the City and Ride Data\n",
    "city_data = pd.read_csv(city_data_to_load)\n",
    "ride_data = pd.read_csv(ride_data_to_load)\n",
    "# Combine the data into a single dataset\n",
    "city_ride_data = pd.merge(ride_data, city_data, how=\"outer\", on=\"city\")\n",
    "# Display the data table for preview\n",
    "city_ride_data.head()"
   ]
  },
  {
   "cell_type": "code",
   "execution_count": null,
   "metadata": {
    "scrolled": true
   },
   "outputs": [],
   "source": []
  },
  {
   "cell_type": "markdown",
   "metadata": {},
   "source": [
    "## Bubble Plot of Ride Sharing Data"
   ]
  },
  {
   "cell_type": "code",
   "execution_count": 33,
   "metadata": {},
   "outputs": [
    {
     "data": {
      "text/plain": [
       "city\n",
       "Bradshawfurt         7\n",
       "Garzaport            7\n",
       "Harringtonfort       4\n",
       "Jessicaport          1\n",
       "Lake Jamie           4\n",
       "Lake Latoyabury      2\n",
       "Michaelberg          6\n",
       "New Ryantown         2\n",
       "Newtonview           1\n",
       "North Holly          8\n",
       "North Jaime          1\n",
       "Penaborough          6\n",
       "Randallchester       9\n",
       "South Jennifer       7\n",
       "South Marychester    1\n",
       "South Saramouth      7\n",
       "Taylorhaven          1\n",
       "West Heather         4\n",
       "Name: driver_count, dtype: int64"
      ]
     },
     "execution_count": 33,
     "metadata": {},
     "output_type": "execute_result"
    }
   ],
   "source": [
    "rural_cities = city_ride_data.loc[city_ride_data[\"type\"] == \"Rural\", [\"city\",\"fare\",\"ride_id\", \"driver_count\",\"date\"]]\n",
    "rural_cities_ride_count = rural_cities.groupby([\"city\"])[\"ride_id\"].count()\n",
    "rural_cities_fare = rural_cities.groupby([\"city\"])[\"fare\"].mean()\n",
    "rural_cities_fare\n",
    "rural_cities_driver_count = rural_cities.groupby([\"city\"])[\"driver_count\"].mean()\n",
    "rural_cities_driver_count"
   ]
  },
  {
   "cell_type": "code",
   "execution_count": 34,
   "metadata": {},
   "outputs": [
    {
     "data": {
      "text/plain": [
       "city\n",
       "Amandaburgh             12\n",
       "Barajasview             26\n",
       "Carriemouth             52\n",
       "Christopherfurt         41\n",
       "Deanville               49\n",
       "East Kaylahaven         65\n",
       "Erikaland               37\n",
       "Grahamburgh             61\n",
       "Huntermouth             37\n",
       "Hurleymouth             36\n",
       "Jerryton                64\n",
       "Johnton                 27\n",
       "Joneschester            39\n",
       "Justinberg              39\n",
       "Karenberg               22\n",
       "Karenside                5\n",
       "Lake Danielberg         19\n",
       "Lake Jonathanshire       5\n",
       "Lake Scottton           58\n",
       "Leahton                 17\n",
       "Liumouth                69\n",
       "Loganberg               23\n",
       "Martinezhaven           25\n",
       "New Jacobville          50\n",
       "New Kimberlyborough     33\n",
       "New Paulton             44\n",
       "New Paulville           44\n",
       "North Barbara           18\n",
       "North Jasmine           33\n",
       "North Jason              6\n",
       "                        ..\n",
       "Port Johnbury            3\n",
       "Port Samanthamouth      57\n",
       "Raymondhaven            11\n",
       "Reynoldsfurt            67\n",
       "Richardfort             38\n",
       "Roberthaven             47\n",
       "Robertport              12\n",
       "Rodneyfort              34\n",
       "Rogerston               25\n",
       "Royland                 64\n",
       "Simpsonburgh            21\n",
       "South Evanton           11\n",
       "South Jack              46\n",
       "South Karenland          4\n",
       "South Latoya            10\n",
       "South Michelleport      72\n",
       "South Phillip           38\n",
       "Valentineton            45\n",
       "West Angela             48\n",
       "West Anthony            70\n",
       "West Christopherberg    32\n",
       "West Ericstad           25\n",
       "West Gabriel            57\n",
       "West Heidi              28\n",
       "West Josephberg         45\n",
       "West Patrickchester     25\n",
       "West Robert             39\n",
       "West Samuelburgh        73\n",
       "Williamsstad            59\n",
       "Williamsview            46\n",
       "Name: driver_count, Length: 66, dtype: int64"
      ]
     },
     "execution_count": 34,
     "metadata": {},
     "output_type": "execute_result"
    }
   ],
   "source": [
    "urban_cities = city_ride_data.loc[city_ride_data[\"type\"] == \"Urban\", [\"city\",\"fare\",\"ride_id\", \"driver_count\",\"date\"]]\n",
    "urban_cities_ride_count = urban_cities.groupby([\"city\"])[\"ride_id\"].count()\n",
    "urban_cities_fare = urban_cities.groupby([\"city\"])[\"fare\"].mean()\n",
    "urban_cities_fare\n",
    "urban_cities_driver_count = urban_cities.groupby([\"city\"])[\"driver_count\"].mean()\n",
    "urban_cities_driver_count"
   ]
  },
  {
   "cell_type": "code",
   "execution_count": 35,
   "metadata": {},
   "outputs": [
    {
     "data": {
      "text/plain": [
       "city\n",
       "Barronchester         11\n",
       "Bethanyland           22\n",
       "Brandonfort           10\n",
       "Colemanland           23\n",
       "Davidfurt             23\n",
       "East Aaronbury         7\n",
       "East Danielview       22\n",
       "East Kentstad         20\n",
       "East Marymouth         5\n",
       "Grayville              2\n",
       "Josephside            25\n",
       "Lake Ann               3\n",
       "Lake Omar             22\n",
       "Lake Robertside        4\n",
       "Lake Scott            23\n",
       "Lewishaven            23\n",
       "Lewisland              4\n",
       "Mezachester           14\n",
       "Myersshire            19\n",
       "New Olivia            20\n",
       "New Raymond           17\n",
       "New Shannonberg       20\n",
       "Nicolechester         19\n",
       "North Jeffrey         11\n",
       "North Richardhaven     1\n",
       "North Timothy          7\n",
       "Port Shane             7\n",
       "Rodriguezview         20\n",
       "Sotoville             10\n",
       "South Brenda           1\n",
       "South Teresa          21\n",
       "Veronicaberg          20\n",
       "Victoriaport          16\n",
       "West Hannah           12\n",
       "West Kimmouth          4\n",
       "Williamsonville        2\n",
       "Name: driver_count, dtype: int64"
      ]
     },
     "execution_count": 35,
     "metadata": {},
     "output_type": "execute_result"
    }
   ],
   "source": [
    "suburban_cities = city_ride_data.loc[city_ride_data[\"type\"] == \"Suburban\", [\"city\",\"fare\",\"ride_id\", \"driver_count\",\"date\"]]\n",
    "suburban_cities_ride_count = suburban_cities.groupby([\"city\"])[\"ride_id\"].count()\n",
    "suburban_cities_ride_count.head()\n",
    "suburban_cities_fare = suburban_cities.groupby([\"city\"])[\"fare\"].mean()\n",
    "suburban_cities_fare\n",
    "suburban_cities_driver_count = suburban_cities.groupby([\"city\"])[\"driver_count\"].mean()\n",
    "suburban_cities_driver_count"
   ]
  },
  {
   "cell_type": "code",
   "execution_count": 42,
   "metadata": {},
   "outputs": [
    {
     "data": {
      "image/png": "[encoded data removed]",
      "text/plain": [
       "<Figure size 432x288 with 1 Axes>"
      ]
     },
     "metadata": {
      "needs_background": "light"
     },
     "output_type": "display_data"
    }
   ],
   "source": [
    "# Obtain the x and y coordinates for each of the three city types\n",
    "\n",
    "\n",
    "# Build the scatter plots for each city types\n",
    "plt.scatter(rural_cities_ride_count, rural_cities_fare, marker=\"o\", facecolors=\"gold\", \n",
    "            edgecolors=\"black\", s=rural_cities_driver_count*10, alpha=.75, label=\"Rural\")\n",
    "\n",
    "plt.scatter(suburban_cities_ride_count, suburban_cities_fare, marker=\"o\", facecolors=\"skyblue\", \n",
    "            edgecolors=\"black\", s=suburban_cities_driver_count*10, alpha=.75, label=\"Suburban\")\n",
    "\n",
    "plt.scatter(urban_cities_ride_count, urban_cities_fare, marker=\"o\", facecolors=\"coral\", \n",
    "            edgecolors=\"black\", s=urban_cities_driver_count*10, alpha=.75, label=\"Urban\")\n",
    "\n",
    "# Incorporate the other graph properties\n",
    "\n",
    "plt.title(\"Pyber Ride Sharing Data (2016)\")\n",
    "plt.xlabel(\"Total Number of Rides (per city)\")\n",
    "plt.ylabel(\"Average Fare($)\")\n",
    "\n",
    "# Create a legend\n",
    "lgnd = plt.legend(fontsize=\"small\", mode=\"Expanded\",\n",
    "                 numpoints=1, scatterpoints=1,\n",
    "                 loc=\"best\", title=\"City Types\",\n",
    "                 labelspacing=0.5)\n",
    "lgnd.legendHandles[0]._sizes = [30]\n",
    "lgnd.legendHandles[1]._sizes = [30]\n",
    "lgnd.legendHandles[2]._sizes = [30]\n",
    "# Incorporate a text label regarding circle size\n",
    "plt.grid(True)\n",
    "plt.text(\"Note: \")\n",
    "\n",
    "# Save Figure\n",
    "plt.show()"
   ]
  },
  {
   "cell_type": "code",
   "execution_count": null,
   "metadata": {},
   "outputs": [],
   "source": [
    "# Show plot\n",
    "plt.show()"
   ]
  },
  {
   "cell_type": "markdown",
   "metadata": {},
   "source": [
    "## Total Fares by City Type"
   ]
  },
  {
   "cell_type": "code",
   "execution_count": null,
   "metadata": {},
   "outputs": [],
   "source": [
    "# Calculate Type Percents\n",
    "\n",
    "# Build Pie Chart\n",
    "\n",
    "# Save Figure\n"
   ]
  },
  {
   "cell_type": "code",
   "execution_count": null,
   "metadata": {},
   "outputs": [],
   "source": [
    "# Show Figure\n",
    "plt.show()"
   ]
  },
  {
   "cell_type": "markdown",
   "metadata": {},
   "source": [
    "## Total Rides by City Type"
   ]
  },
  {
   "cell_type": "code",
   "execution_count": null,
   "metadata": {},
   "outputs": [],
   "source": [
    "# Calculate Ride Percents\n",
    "\n",
    "# Build Pie Chart\n",
    "\n",
    "# Save Figure\n"
   ]
  },
  {
   "cell_type": "code",
   "execution_count": null,
   "metadata": {},
   "outputs": [],
   "source": [
    "# Show Figure\n",
    "plt.show()"
   ]
  },
  {
   "cell_type": "markdown",
   "metadata": {},
   "source": [
    "## Total Drivers by City Type"
   ]
  },
  {
   "cell_type": "code",
   "execution_count": null,
   "metadata": {},
   "outputs": [],
   "source": [
    "# Calculate Driver Percents\n",
    "\n",
    "# Build Pie Charts\n",
    "\n",
    "# Save Figure\n"
   ]
  },
  {
   "cell_type": "code",
   "execution_count": null,
   "metadata": {
    "scrolled": true
   },
   "outputs": [],
   "source": [
    "# Show Figure\n",
    "plt.show()"
   ]
  },
  {
   "cell_type": "code",
   "execution_count": null,
   "metadata": {},
   "outputs": [],
   "source": []
  }
 ],
 "metadata": {
  "anaconda-cloud": {},
  "kernelspec": {
   "display_name": "Python 3",
   "language": "python",
   "name": "python3"
  },
  "language_info": {
   "codemirror_mode": {
    "name": "ipython",
    "version": 3
   },
   "file_extension": ".py",
   "mimetype": "text/x-python",
   "name": "python",
   "nbconvert_exporter": "python",
   "pygments_lexer": "ipython3",
   "version": "3.6.8"
  }
 },
 "nbformat": 4,
 "nbformat_minor": 2
}
